{
  "nbformat": 4,
  "nbformat_minor": 0,
  "metadata": {
    "colab": {
      "name": "practice.ipynb",
      "provenance": [],
      "include_colab_link": true
    },
    "kernelspec": {
      "name": "python3",
      "display_name": "Python 3"
    }
  },
  "cells": [
    {
      "cell_type": "markdown",
      "metadata": {
        "id": "view-in-github",
        "colab_type": "text"
      },
      "source": [
        "<a href=\"https://colab.research.google.com/github/dempseyt23/IST210Workshop/blob/master/Practice/practice.ipynb\" target=\"_parent\"><img src=\"https://colab.research.google.com/assets/colab-badge.svg\" alt=\"Open In Colab\"/></a>"
      ]
    },
    {
      "cell_type": "code",
      "metadata": {
        "id": "N42E10TZ0SK_",
        "colab_type": "code",
        "colab": {}
      },
      "source": [
        "this is text\n",
        "\n"
      ],
      "execution_count": 0,
      "outputs": []
    },
    {
      "cell_type": "code",
      "metadata": {
        "id": "YWjf6_Qd05zo",
        "colab_type": "code",
        "colab": {}
      },
      "source": [
        ""
      ],
      "execution_count": 0,
      "outputs": []
    },
    {
      "cell_type": "markdown",
      "metadata": {
        "id": "HLVT--fe1T-o",
        "colab_type": "text"
      },
      "source": [
        "![1 Actor](https://raw.githubusercontent.com/dempseyt23/IST210Workshop/bd9523e4c058ac85b23bd63f5411f8ab28d068c1/Practice/Untitled%20Diagram.png)"
      ]
    }
  ]
}